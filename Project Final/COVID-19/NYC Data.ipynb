{
 "cells": [
  {
   "cell_type": "markdown",
   "metadata": {
    "slideshow": {
     "slide_type": "slide"
    }
   },
   "source": [
    "# Final Project - COVID-19 in New York City"
   ]
  },
  {
   "cell_type": "markdown",
   "metadata": {
    "slideshow": {
     "slide_type": "subslide"
    }
   },
   "source": [
    "### After having gone through having COVID-19, I wanted to do my final project on datasets that delt with this Virus."
   ]
  },
  {
   "cell_type": "code",
   "execution_count": 1,
   "metadata": {
    "slideshow": {
     "slide_type": "slide"
    }
   },
   "outputs": [
    {
     "ename": "ModuleNotFoundError",
     "evalue": "No module named 'folium'",
     "output_type": "error",
     "traceback": [
      "\u001b[1;31m---------------------------------------------------------------------------\u001b[0m",
      "\u001b[1;31mModuleNotFoundError\u001b[0m                       Traceback (most recent call last)",
      "\u001b[1;32m<ipython-input-1-e5d7af1ccbf7>\u001b[0m in \u001b[0;36m<module>\u001b[1;34m\u001b[0m\n\u001b[0;32m      4\u001b[0m \u001b[1;32mimport\u001b[0m \u001b[0mmatplotlib\u001b[0m\u001b[1;33m.\u001b[0m\u001b[0mpyplot\u001b[0m \u001b[1;32mas\u001b[0m \u001b[0mplt\u001b[0m\u001b[1;33m\u001b[0m\u001b[1;33m\u001b[0m\u001b[0m\n\u001b[0;32m      5\u001b[0m \u001b[1;32mimport\u001b[0m \u001b[0mseaborn\u001b[0m \u001b[1;32mas\u001b[0m \u001b[0msns\u001b[0m\u001b[1;33m\u001b[0m\u001b[1;33m\u001b[0m\u001b[0m\n\u001b[1;32m----> 6\u001b[1;33m \u001b[1;32mimport\u001b[0m \u001b[0mfolium\u001b[0m\u001b[1;33m\u001b[0m\u001b[1;33m\u001b[0m\u001b[0m\n\u001b[0m",
      "\u001b[1;31mModuleNotFoundError\u001b[0m: No module named 'folium'"
     ]
    }
   ],
   "source": [
    "import pandas as pd\n",
    "import numpy as np\n",
    "import matplotlib\n",
    "import matplotlib.pyplot as plt\n",
    "import seaborn as sns\n",
    "import folium"
   ]
  },
  {
   "cell_type": "markdown",
   "metadata": {
    "slideshow": {
     "slide_type": "slide"
    }
   },
   "source": [
    "### Datasets URL's"
   ]
  },
  {
   "cell_type": "code",
   "execution_count": null,
   "metadata": {
    "slideshow": {
     "slide_type": "subslide"
    }
   },
   "outputs": [],
   "source": [
    "zipcode = 'https://raw.githubusercontent.com/nychealth/coronavirus-data/master/tests-by-zcta.csv'\n",
    "boro = 'https://raw.githubusercontent.com/nychealth/coronavirus-data/master/boro.csv'\n",
    "age = 'https://raw.githubusercontent.com/nychealth/coronavirus-data/master/by-age.csv'\n",
    "sex = 'https://raw.githubusercontent.com/nychealth/coronavirus-data/master/by-sex.csv'\n",
    "cases = 'https://raw.githubusercontent.com/nychealth/coronavirus-data/master/case-hosp-death.csv'\n",
    "tests = 'https://raw.githubusercontent.com/nychealth/coronavirus-data/master/tests.csv'"
   ]
  },
  {
   "cell_type": "markdown",
   "metadata": {
    "slideshow": {
     "slide_type": "slide"
    }
   },
   "source": [
    "### Create pandas Datasets"
   ]
  },
  {
   "cell_type": "code",
   "execution_count": null,
   "metadata": {
    "slideshow": {
     "slide_type": "subslide"
    }
   },
   "outputs": [],
   "source": [
    "originalZipcode = pd.read_csv(zipcode)\n",
    "pdZipcode = originalZipcode.copy()\n",
    "\n",
    "originalBoro = pd.read_csv(boro)\n",
    "pdBoro = originalBoro.copy()\n",
    "\n",
    "originalAge = pd.read_csv(age)\n",
    "pdAge = originalAge.copy()\n",
    "\n",
    "originalSex = pd.read_csv(sex)\n",
    "pdSex = originalSex.copy()\n",
    "\n",
    "originalCases = pd.read_csv(cases)\n",
    "pdCases = originalCases.copy()\n",
    "\n",
    "originalTests = pd.read_csv(tests)\n",
    "pdTests = originalTests.copy()"
   ]
  },
  {
   "cell_type": "markdown",
   "metadata": {
    "slideshow": {
     "slide_type": "slide"
    }
   },
   "source": [
    "### Change any NaN values to 0"
   ]
  },
  {
   "cell_type": "code",
   "execution_count": null,
   "metadata": {
    "slideshow": {
     "slide_type": "subslide"
    }
   },
   "outputs": [],
   "source": [
    "pdZipcode.fillna(0, inplace=True)"
   ]
  },
  {
   "cell_type": "markdown",
   "metadata": {
    "slideshow": {
     "slide_type": "slide"
    }
   },
   "source": [
    "### Sort and change default column names."
   ]
  },
  {
   "cell_type": "code",
   "execution_count": null,
   "metadata": {
    "slideshow": {
     "slide_type": "subslide"
    }
   },
   "outputs": [],
   "source": [
    "pdZipcode = pdZipcode.sort_values(by = 'MODZCTA').rename(columns={'MODZCTA':'Zipcode', 'zcta_cum.perc_pos':'Percent Positive'})\n",
    "#pdZipcode.sort_values(by='Percent Positive', ascending=False)"
   ]
  },
  {
   "cell_type": "code",
   "execution_count": null,
   "metadata": {
    "slideshow": {
     "slide_type": "subslide"
    }
   },
   "outputs": [],
   "source": [
    "pdZipcode['Zipcode'] = pdZipcode['Zipcode'].astype(int)\n",
    "pdZipcode.dtypes"
   ]
  },
  {
   "cell_type": "markdown",
   "metadata": {
    "slideshow": {
     "slide_type": "slide"
    }
   },
   "source": [
    "## Map of current COVID-19 Positive Cases in NYC. "
   ]
  },
  {
   "cell_type": "code",
   "execution_count": null,
   "metadata": {
    "scrolled": true,
    "slideshow": {
     "slide_type": "subslide"
    }
   },
   "outputs": [],
   "source": [
    "positiveMap = folium.Map(location=[40.7137859, -73.9367536], default_zoom_start=1)\n",
    "nycZipcode = 'https://raw.githubusercontent.com/nychealth/coronavirus-data/master/Geography-resources/MODZCTA_2010_WGS1984.geo.json'\n",
    "pdZipcode['Zipcode']=pdZipcode['Zipcode'].astype(str)\n",
    "positiveMap.choropleth(geo_data=nycZipcode,\n",
    "                       data=pdZipcode,\n",
    "                       columns=['Zipcode', 'Positive'],\n",
    "                       key_on='feature.properties.MODZCTA',\n",
    "                       fill_color='OrRd',\n",
    "                       fill_opacity=.7, \n",
    "                       line_opacity=.2,\n",
    "                       legend_name='Positive Cases by Zip Code')\n",
    "positiveMap"
   ]
  },
  {
   "cell_type": "markdown",
   "metadata": {
    "slideshow": {
     "slide_type": "slide"
    }
   },
   "source": [
    "## Cases, Hospitilization and Death Rates by Sex."
   ]
  },
  {
   "cell_type": "code",
   "execution_count": null,
   "metadata": {
    "slideshow": {
     "slide_type": "subslide"
    }
   },
   "outputs": [],
   "source": [
    "pdSex = pdSex.drop(2)\n",
    "pdSexMelt= pdSex.melt('SEX_GROUP')\n",
    "plotSex = sns.catplot(x=\"SEX_GROUP\", y='value', hue='variable', kind='bar', data=pdSexMelt)"
   ]
  },
  {
   "cell_type": "markdown",
   "metadata": {
    "slideshow": {
     "slide_type": "slide"
    }
   },
   "source": [
    "## Cases, Hospitilization and Death Rates by Age."
   ]
  },
  {
   "cell_type": "code",
   "execution_count": null,
   "metadata": {
    "slideshow": {
     "slide_type": "skip"
    }
   },
   "outputs": [],
   "source": [
    "#pdAge"
   ]
  },
  {
   "cell_type": "code",
   "execution_count": null,
   "metadata": {
    "slideshow": {
     "slide_type": "subslide"
    }
   },
   "outputs": [],
   "source": [
    "pdAge = pdAge.drop(5)\n",
    "pdAgeMelt= pdAge.melt('AGE_GROUP')\n",
    "plotAge = sns.catplot(x=\"AGE_GROUP\", y='value', hue='variable', kind='bar', data=pdAgeMelt)"
   ]
  },
  {
   "cell_type": "markdown",
   "metadata": {
    "slideshow": {
     "slide_type": "slide"
    }
   },
   "source": [
    "## Cases, Hospitilization and Death Count by Day."
   ]
  },
  {
   "cell_type": "code",
   "execution_count": null,
   "metadata": {
    "scrolled": true,
    "slideshow": {
     "slide_type": "skip"
    }
   },
   "outputs": [],
   "source": [
    "#pdCases"
   ]
  },
  {
   "cell_type": "code",
   "execution_count": null,
   "metadata": {
    "scrolled": true,
    "slideshow": {
     "slide_type": "subslide"
    }
   },
   "outputs": [],
   "source": [
    "pdCasesMelt= pdCases.melt('DATE_OF_INTEREST')\n",
    "plotCases = sns.catplot(x=\"DATE_OF_INTEREST\", y='value', hue='variable', kind='point', data=pdCasesMelt)"
   ]
  },
  {
   "cell_type": "markdown",
   "metadata": {},
   "source": [
    "## Case Count and Case Rate by Boro."
   ]
  },
  {
   "cell_type": "code",
   "execution_count": null,
   "metadata": {
    "scrolled": true
   },
   "outputs": [],
   "source": [
    "pdBoro"
   ]
  },
  {
   "cell_type": "code",
   "execution_count": null,
   "metadata": {
    "scrolled": true
   },
   "outputs": [],
   "source": [
    "pdBoro = pdBoro.drop(5)\n",
    "pdBoroMelt= pdBoro.melt('BOROUGH_GROUP')\n",
    "plotBoro = sns.catplot(x=\"BOROUGH_GROUP\", y='value', hue='variable', kind='bar', data=pdBoroMelt)"
   ]
  },
  {
   "cell_type": "markdown",
   "metadata": {},
   "source": [
    "## Confirmed and Probable Cases by Day."
   ]
  },
  {
   "cell_type": "code",
   "execution_count": null,
   "metadata": {
    "scrolled": true
   },
   "outputs": [],
   "source": [
    "pdProbableMelt= pdProbable.melt('date_of_death')\n",
    "plotProbable = sns.catplot(x=\"date_of_death\", y='value', hue='variable', kind='point', data=pdProbableMelt)"
   ]
  },
  {
   "cell_type": "markdown",
   "metadata": {},
   "source": [
    "## Confirmed, Probable and Total Cases by Day."
   ]
  },
  {
   "cell_type": "code",
   "execution_count": null,
   "metadata": {},
   "outputs": [],
   "source": [
    "pdTests.drop('TOTAL_TESTS')"
   ]
  },
  {
   "cell_type": "code",
   "execution_count": null,
   "metadata": {},
   "outputs": [],
   "source": [
    "#pdProbable['TOTAL'] = pdProbable.sum(axis=1)"
   ]
  },
  {
   "cell_type": "code",
   "execution_count": null,
   "metadata": {},
   "outputs": [],
   "source": [
    "pdTests = pdTests.drop(2)\n",
    "pdTestsMelt= pdTests.melt('DATE')\n",
    "plotTests = sns.catplot(x=\"DATE\", y='value', hue='variable', kind='point', data=pdTestsMelt)"
   ]
  },
  {
   "cell_type": "code",
   "execution_count": null,
   "metadata": {},
   "outputs": [],
   "source": []
  },
  {
   "cell_type": "code",
   "execution_count": null,
   "metadata": {},
   "outputs": [],
   "source": []
  }
 ],
 "metadata": {
  "celltoolbar": "Slideshow",
  "kernelspec": {
   "display_name": "Python 3",
   "language": "python",
   "name": "python3"
  },
  "language_info": {
   "codemirror_mode": {
    "name": "ipython",
    "version": 3
   },
   "file_extension": ".py",
   "mimetype": "text/x-python",
   "name": "python",
   "nbconvert_exporter": "python",
   "pygments_lexer": "ipython3",
   "version": "3.7.6"
  }
 },
 "nbformat": 4,
 "nbformat_minor": 2
}
